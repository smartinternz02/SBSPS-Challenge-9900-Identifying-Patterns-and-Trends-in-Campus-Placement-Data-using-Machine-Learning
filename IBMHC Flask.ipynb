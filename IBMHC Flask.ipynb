{
 "cells": [
  {
   "cell_type": "code",
   "execution_count": 1,
   "id": "8a4544c4",
   "metadata": {},
   "outputs": [],
   "source": [
    "from flask import Flask, request, render_template"
   ]
  },
  {
   "cell_type": "code",
   "execution_count": 2,
   "id": "dd91b698",
   "metadata": {},
   "outputs": [],
   "source": [
    "import pickle"
   ]
  },
  {
   "cell_type": "code",
   "execution_count": 3,
   "id": "b1ea0099",
   "metadata": {
    "scrolled": false
   },
   "outputs": [],
   "source": [
    "app = Flask(__name__)\n",
    "model = pickle.load(open('/Users/adithibhatta/Downloads/model.pkl', 'rb'))"
   ]
  },
  {
   "cell_type": "code",
   "execution_count": 4,
   "id": "daa58914",
   "metadata": {},
   "outputs": [],
   "source": [
    "@app.route('/')\n",
    "def home():\n",
    "    return render_template('Home_Page.html')"
   ]
  },
  {
   "cell_type": "code",
   "execution_count": 5,
   "id": "79f458d4",
   "metadata": {},
   "outputs": [],
   "source": [
    "@app.route('/input',methods = ['POST'])\n",
    "def pred():\n",
    "    \n",
    "    gender = request.form.get('gender')\n",
    "    stream_12 = request.form.get('12_stream')\n",
    "    stream_d = request.form.get('d_stream')\n",
    "    spl = request.form.get('spl')\n",
    "    workex = request.form.get('workex')\n",
    "    \n",
    "    marks_10 = request.form.get('10_marks')\n",
    "    marks_12 = request.form.get('12_marks')\n",
    "    marks_d = request.form.get('d_marks')\n",
    "    marks_et = request.form.get('et_marks')\n",
    "    marks_mba = request.form.get('mba_marks')\n",
    "    \n",
    "    input = [[int(gender), float(marks_10), float(marks_12), \n",
    "              int(stream_12),  float(marks_d), int(stream_d), int(workex),\n",
    "              float(marks_et), int(spl), float(marks_mba)]]\n",
    "    \n",
    "    op = model.predict(input)\n",
    "    print(op)\n",
    "    return render_template('Home_Page.html',Output=str(op))"
   ]
  },
  {
   "cell_type": "code",
   "execution_count": 6,
   "id": "bbdbe1a3",
   "metadata": {
    "scrolled": true
   },
   "outputs": [],
   "source": [
    "#if __name__ == '__main__':\n",
    "#    app.run()"
   ]
  },
  {
   "cell_type": "code",
   "execution_count": null,
   "id": "68f0c895",
   "metadata": {},
   "outputs": [],
   "source": []
  }
 ],
 "metadata": {
  "kernelspec": {
   "display_name": "Python 3 (ipykernel)",
   "language": "python",
   "name": "python3"
  },
  "language_info": {
   "codemirror_mode": {
    "name": "ipython",
    "version": 3
   },
   "file_extension": ".py",
   "mimetype": "text/x-python",
   "name": "python",
   "nbconvert_exporter": "python",
   "pygments_lexer": "ipython3",
   "version": "3.9.13"
  }
 },
 "nbformat": 4,
 "nbformat_minor": 5
}
